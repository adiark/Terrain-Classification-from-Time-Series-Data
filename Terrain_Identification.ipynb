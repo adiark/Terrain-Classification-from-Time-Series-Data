{
 "cells": [
  {
   "cell_type": "markdown",
   "metadata": {},
   "source": [
    "# Terrain Identification\n",
    "\n"
   ]
  },
  {
   "cell_type": "code",
   "execution_count": 12,
   "metadata": {},
   "outputs": [],
   "source": [
    "## Necessary imports"
   ]
  },
  {
   "cell_type": "code",
   "execution_count": null,
   "metadata": {},
   "outputs": [],
   "source": [
    "# Uncomment this cell to install libraries if missing on your system\n",
    "\n",
    "# !pip install tensorflow\n",
    "# !pip install pandas\n",
    "# !pip install matplotlib\n",
    "# !pip install seaborn\n",
    "# !pip install h5py\n",
    "# !pip install scikit-learn\n",
    "# !pip install glob2"
   ]
  },
  {
   "cell_type": "code",
   "execution_count": 1,
   "metadata": {},
   "outputs": [],
   "source": [
    "# Installing Libraries\n",
    "\n",
    "import pandas as pd\n",
    "import matplotlib.pyplot as plt\n",
    "import seaborn as sns\n",
    "from sklearn.model_selection import train_test_split\n",
    "import glob\n",
    "from sklearn.preprocessing import RobustScaler\n",
    "from scipy import stats\n",
    "import numpy as np\n",
    "import h5py\n",
    "import tensorflow as tf\n",
    "from tensorflow import keras\n",
    "from tensorflow.keras.models import model_from_json"
   ]
  },
  {
   "cell_type": "markdown",
   "metadata": {},
   "source": [
    "## Data Preprocessing APIs"
   ]
  },
  {
   "cell_type": "code",
   "execution_count": 2,
   "metadata": {},
   "outputs": [],
   "source": [
    "def get_raw_data(xfile, yfile):\n",
    "    \"\"\"Takes input x and y files and matches the dimensions by extrapolating y data\n",
    "    \n",
    "    This API reads the provided data csv files and creates an output dataframe that is of\n",
    "    size = 4 * dimension(y). The extra data instances at the end of the x files are discarded.\n",
    "     \n",
    "    Arguments:\n",
    "    1. x_files: x sensor data csv\n",
    "    2. y_files: y label corresponding to each data csv\n",
    "    \"\"\"\n",
    "    check_df_y = pd.read_csv(yfile, header= None)\n",
    "    check_df_x = pd.read_csv(xfile, header= None)\n",
    "    \n",
    "    new_labels = []\n",
    "    for i in check_df_y.iterrows():\n",
    "        new_labels += [i[1][0]] * 4\n",
    "    \n",
    "    new_labels = pd.DataFrame(new_labels)\n",
    "    diff = check_df_x.shape[0] - new_labels.shape[0]\n",
    "    if diff < 0 :\n",
    "        new_labels = new_labels.iloc[:len(check_df_x),:]\n",
    "    else :\n",
    "        check_df_x = check_df_x.iloc[:len(new_labels),:]\n",
    "        \n",
    "    return check_df_x, new_labels"
   ]
  },
  {
   "cell_type": "code",
   "execution_count": 3,
   "metadata": {},
   "outputs": [],
   "source": [
    "def scale_data(df_data, scale_columns):\n",
    "    \"\"\"Scale the input data to make it robust to variation\n",
    "    \n",
    "    This API takes in the raw input data and scales it using RobustScaler\n",
    "    \"\"\"\n",
    "    scaler = RobustScaler()\n",
    "    scaler = scaler.fit(df_data[scale_columns])\n",
    "\n",
    "    df_data.loc[:, scale_columns] = scaler.transform(df_data[scale_columns].to_numpy())\n",
    "    return df_data"
   ]
  },
  {
   "cell_type": "code",
   "execution_count": 4,
   "metadata": {},
   "outputs": [],
   "source": [
    "def create_dataset_with_mode_labels(X, y, time_steps=1, step=1):\n",
    "    \"\"\"Takes in X and y data and creates windows of time-series\n",
    "    \"\"\"\n",
    "    Xs, ys = [], []\n",
    "    for i in range(0, len(X) - time_steps, step):\n",
    "        v = X.iloc[i:(i + time_steps)].values\n",
    "        labels = y.iloc[i: i + time_steps]\n",
    "        Xs.append(v)\n",
    "        ys.append(stats.mode(labels)[0][0])\n",
    "    return np.array(Xs), np.array(ys).reshape(-1, 1)"
   ]
  },
  {
   "cell_type": "code",
   "execution_count": 5,
   "metadata": {},
   "outputs": [],
   "source": [
    "def create_dataset(X, label, time_steps = 40, step = 1):\n",
    "    Xs, ys = [], []\n",
    "    for i in range(0, len(X) - time_steps, step):\n",
    "        v = X.iloc[i:(i + time_steps)].values\n",
    "        Xs.append(v)        \n",
    "        ys.append(label)\n",
    "    return np.array(Xs), np.array(ys).reshape(-1, 1)"
   ]
  },
  {
   "cell_type": "code",
   "execution_count": 6,
   "metadata": {},
   "outputs": [],
   "source": [
    "def compose_series_data(x_files, y_files, time_steps = 40, step = 1):\n",
    "    \"\"\"Takes input as x and y files and creates windowed training instances suitable for BiLSTM model\n",
    "    \n",
    "    This API takes in x and y csv files, creates raw data with equal x and y dimensions. Then it\n",
    "    creates windows from the x and y data. \n",
    "    \n",
    "    Arguments:\n",
    "    1. x_files: x sensor data csv\n",
    "    2. y_files: y label corresponding to each data csv\n",
    "    3. time_steps: defines the window size. maximum labels (mode) for a window is kept as the\n",
    "        output label for that windowed training instance\n",
    "    4. step: defines the instances to skip before starting the next window\n",
    "    \n",
    "    Returns:\n",
    "    1. stacked windowed training instances from all the files \n",
    "        (Dimension = [total-windows] X [time-steps] X [6])\n",
    "    2. stacked y labels for the corresponding above windowed training instances\n",
    "        (Dimension = [total-windows] X [1])\n",
    "    \"\"\"\n",
    "    \n",
    "    all_x = []\n",
    "    all_y = []\n",
    "    # create a series from all the subjects\n",
    "    for i in range(len(y_files)):\n",
    "        # get x-y balanced data, basically removed the extra values in x\n",
    "        X, y = get_raw_data(x_files[i], y_files[i])\n",
    "        \n",
    "        # scale data\n",
    "        X = scale_data(X, list(X.columns.values))\n",
    "        # create series data for this file\n",
    "        X, y = create_dataset_with_mode_labels(X, y, time_steps = time_steps, step = step)\n",
    "        \n",
    "        all_x.append(X)\n",
    "        all_y.append(y)\n",
    "    return np.concatenate(all_x), np.concatenate(all_y)"
   ]
  },
  {
   "cell_type": "markdown",
   "metadata": {},
   "source": [
    "## Data Preprocessing\n",
    "\n",
    "1. Divide the input files into train, validate and test sets.\n",
    "2. Create windowed time-series input instances"
   ]
  },
  {
   "cell_type": "code",
   "execution_count": 7,
   "metadata": {},
   "outputs": [],
   "source": [
    "all_y_files = sorted(glob.glob('Data/TrainingData/subject_???_??__y.csv'))\n",
    "all_x_files = sorted(glob.glob('Data/TrainingData/subject_???_??__x.csv'))\n",
    "\n",
    "test_y_files = [\"Data/TrainingData/subject_002_03__y.csv\", \"Data/TrainingData/subject_001_04__y.csv\"]\n",
    "test_x_files = [\"Data/TrainingData/subject_002_03__x.csv\", \"Data/TrainingData/subject_001_04__x.csv\"]\n",
    "\n",
    "val_y_files = [\"Data/TrainingData/subject_003_02__y.csv\", \"Data/TrainingData/subject_007_04__y.csv\"]\n",
    "val_x_files = [\"Data/TrainingData/subject_003_02__x.csv\", \"Data/TrainingData/subject_007_04__x.csv\"]\n",
    "\n",
    "# subtract the files that are in test and val\n",
    "train_y_files = sorted(list(set(all_y_files) ^ set(test_y_files + val_y_files)))\n",
    "train_x_files = sorted(list(set(all_x_files) ^ set(test_x_files + val_x_files)))"
   ]
  },
  {
   "cell_type": "code",
   "execution_count": 8,
   "metadata": {},
   "outputs": [],
   "source": [
    "TIME_STEPS = 60\n",
    "STEP = 1"
   ]
  },
  {
   "cell_type": "code",
   "execution_count": 9,
   "metadata": {},
   "outputs": [
    {
     "name": "stdout",
     "output_type": "stream",
     "text": [
      "(1530054, 60, 6) (1530054, 1)\n",
      "(86529, 60, 6) (86529, 1)\n",
      "(103632, 60, 6) (103632, 1)\n"
     ]
    }
   ],
   "source": [
    "X_train, y_train = compose_series_data(train_x_files, train_y_files, time_steps = TIME_STEPS, step = STEP)\n",
    "X_val, y_val = compose_series_data(val_x_files, val_y_files, time_steps = TIME_STEPS, step = STEP)\n",
    "X_test, y_test = compose_series_data(test_x_files, test_y_files, time_steps = TIME_STEPS, step = STEP)\n",
    "\n",
    "print(X_train.shape, y_train.shape)\n",
    "print(X_val.shape, y_val.shape)\n",
    "print(X_test.shape, y_test.shape)"
   ]
  },
  {
   "cell_type": "markdown",
   "metadata": {},
   "source": [
    "### Find out class weights since the input data is not balanced.\n",
    "\n",
    "This information is then used by the model while training which samples the data more from the under-represented classes. This way, we perform implicit data balancing"
   ]
  },
  {
   "cell_type": "code",
   "execution_count": 10,
   "metadata": {},
   "outputs": [
    {
     "name": "stdout",
     "output_type": "stream",
     "text": [
      "[0.33201761 5.97854832 4.76130225 1.63714278]\n"
     ]
    },
    {
     "data": {
      "text/plain": [
       "{0: 0.33201760629396365,\n",
       " 1: 5.978548319032213,\n",
       " 2: 4.761302248002191,\n",
       " 3: 1.6371427837721007}"
      ]
     },
     "execution_count": 10,
     "metadata": {},
     "output_type": "execute_result"
    }
   ],
   "source": [
    "from sklearn.utils import class_weight\n",
    "class_weights = class_weight.compute_class_weight(class_weight='balanced',classes= np.unique(y_train), y =y_train.ravel())\n",
    "print(class_weights)\n",
    "class_weights = {i:class_weights[i] for i in range(len(class_weights))}\n",
    "class_weights"
   ]
  },
  {
   "cell_type": "markdown",
   "metadata": {},
   "source": [
    "### Convert input labels to one-hot encoding"
   ]
  },
  {
   "cell_type": "code",
   "execution_count": 11,
   "metadata": {},
   "outputs": [],
   "source": [
    "from sklearn.preprocessing import OneHotEncoder\n",
    "\n",
    "enc = OneHotEncoder(handle_unknown='ignore', sparse=False)\n",
    "enc = enc.fit(y_train)\n",
    "\n",
    "y_train = enc.transform(y_train)\n",
    "y_test = enc.transform(y_test)\n",
    "y_val = enc.transform(y_val)"
   ]
  },
  {
   "cell_type": "markdown",
   "metadata": {},
   "source": [
    "## Create and train model"
   ]
  },
  {
   "cell_type": "code",
   "execution_count": 12,
   "metadata": {},
   "outputs": [],
   "source": [
    "# save the model\n",
    "# note the time steps\n",
    "model_save_dir = \"final_models\"\n",
    "model_name = \"model_BiLSTM_ts%d_s%d\"%(TIME_STEPS, STEP)"
   ]
  },
  {
   "cell_type": "code",
   "execution_count": 13,
   "metadata": {},
   "outputs": [],
   "source": [
    "## Model architecture\n",
    "\n",
    "model = keras.Sequential()\n",
    "model.add(\n",
    "    keras.layers.Bidirectional(\n",
    "      keras.layers.LSTM(\n",
    "          units=128, \n",
    "          input_shape=[X_train.shape[1], X_train.shape[2]]\n",
    "      )\n",
    "    )\n",
    ")\n",
    "model.add(keras.layers.Dropout(rate=0.5))\n",
    "model.add(keras.layers.Dense(units=128, activation='relu'))\n",
    "model.add(keras.layers.Dense(y_train.shape[1], activation='softmax'))\n",
    "model.compile(loss='categorical_crossentropy', optimizer='adam', metrics=['acc'])"
   ]
  },
  {
   "cell_type": "code",
   "execution_count": 14,
   "metadata": {},
   "outputs": [
    {
     "name": "stdout",
     "output_type": "stream",
     "text": [
      "Epoch 1/10\n",
      "11954/11954 [==============================] - 1619s 135ms/step - loss: 0.1417 - acc: 0.9160 - val_loss: 0.0587 - val_acc: 0.9781\n",
      "Epoch 2/10\n",
      "11954/11954 [==============================] - 1699s 142ms/step - loss: 0.0583 - acc: 0.9629 - val_loss: 0.0396 - val_acc: 0.9831\n",
      "Epoch 3/10\n",
      "11954/11954 [==============================] - 2040s 171ms/step - loss: 0.0372 - acc: 0.9761 - val_loss: 0.0219 - val_acc: 0.9922\n",
      "Epoch 4/10\n",
      "11954/11954 [==============================] - 2632s 220ms/step - loss: 0.0282 - acc: 0.9822 - val_loss: 0.0169 - val_acc: 0.9941\n",
      "Epoch 5/10\n",
      "11954/11954 [==============================] - 2791s 233ms/step - loss: 0.0231 - acc: 0.9858 - val_loss: 0.0126 - val_acc: 0.9951\n",
      "Epoch 6/10\n",
      "11954/11954 [==============================] - 3258s 273ms/step - loss: 0.0190 - acc: 0.9880 - val_loss: 0.0096 - val_acc: 0.9966\n",
      "Epoch 7/10\n",
      "11954/11954 [==============================] - 3307s 277ms/step - loss: 0.0169 - acc: 0.9896 - val_loss: 0.0111 - val_acc: 0.9960\n",
      "Epoch 8/10\n",
      "11954/11954 [==============================] - 3363s 281ms/step - loss: 0.0153 - acc: 0.9905 - val_loss: 0.0151 - val_acc: 0.9949\n",
      "Epoch 9/10\n",
      "11954/11954 [==============================] - 4117s 344ms/step - loss: 0.0137 - acc: 0.9915 - val_loss: 0.0066 - val_acc: 0.9978\n",
      "Epoch 10/10\n",
      "11954/11954 [==============================] - 3692s 309ms/step - loss: 0.0128 - acc: 0.9921 - val_loss: 0.0158 - val_acc: 0.9947\n"
     ]
    }
   ],
   "source": [
    "callback = tf.keras.callbacks.EarlyStopping(monitor='loss', patience=3)\n",
    "\n",
    "history = model.fit(\n",
    "    X_train, y_train,\n",
    "    epochs=10,\n",
    "    batch_size=128,\n",
    "    validation_data=(X_val,y_val),\n",
    "    class_weight=class_weights,\n",
    "    shuffle=True\n",
    ")"
   ]
  },
  {
   "cell_type": "markdown",
   "metadata": {},
   "source": [
    "### Checkout training metrics"
   ]
  },
  {
   "cell_type": "code",
   "execution_count": 16,
   "metadata": {},
   "outputs": [
    {
     "data": {
      "image/png": "[encoded data removed]",
      "text/plain": [
       "<Figure size 576x432 with 2 Axes>"
      ]
     },
     "metadata": {
      "needs_background": "light"
     },
     "output_type": "display_data"
    }
   ],
   "source": [
    "## Plots for Training and Validation\n",
    "\n",
    "fig, axs = plt.subplots(2)\n",
    "fig.suptitle('Training and Validation Loss/Accuracy')\n",
    "axs[0].plot(history.history['loss'], label='train_loss')\n",
    "axs[0].plot(history.history['val_loss'], label='val_loss')\n",
    "\n",
    "axs[1].plot(history.history['acc'], label='train_acc')\n",
    "axs[1].plot(history.history['val_acc'], label='val_acc')\n",
    "\n",
    "axs[0].legend()\n",
    "axs[1].legend()\n",
    "fig.set_size_inches(8,6)\n",
    "plt.savefig(model_save_dir + \"/\" + model_name + \"_accval.png\", dpi=100)"
   ]
  },
  {
   "cell_type": "markdown",
   "metadata": {},
   "source": [
    "### Evaluate the model on the test set and checkout final metrics"
   ]
  },
  {
   "cell_type": "code",
   "execution_count": 17,
   "metadata": {},
   "outputs": [
    {
     "name": "stdout",
     "output_type": "stream",
     "text": [
      "3239/3239 [==============================] - 157s 48ms/step - loss: 0.0203 - acc: 0.9933\n"
     ]
    },
    {
     "data": {
      "text/plain": [
       "[0.020336076617240906, 0.9932935833930969]"
      ]
     },
     "execution_count": 17,
     "metadata": {},
     "output_type": "execute_result"
    }
   ],
   "source": [
    "model.evaluate(X_test, y_test)"
   ]
  },
  {
   "cell_type": "code",
   "execution_count": 18,
   "metadata": {},
   "outputs": [
    {
     "name": "stdout",
     "output_type": "stream",
     "text": [
      "3239/3239 [==============================] - 138s 42ms/step\n"
     ]
    }
   ],
   "source": [
    "y_pred = model.predict(X_test)"
   ]
  },
  {
   "cell_type": "code",
   "execution_count": 19,
   "metadata": {},
   "outputs": [
    {
     "name": "stdout",
     "output_type": "stream",
     "text": [
      "              precision    recall  f1-score   support\n",
      "\n",
      "           0       1.00      0.99      1.00     75768\n",
      "           1       0.96      1.00      0.98      6134\n",
      "           2       0.97      1.00      0.98      5506\n",
      "           3       0.98      1.00      0.99     16224\n",
      "\n",
      "    accuracy                           0.99    103632\n",
      "   macro avg       0.98      1.00      0.99    103632\n",
      "weighted avg       0.99      0.99      0.99    103632\n",
      "\n"
     ]
    }
   ],
   "source": [
    "from sklearn.metrics import classification_report\n",
    "print(classification_report(enc.inverse_transform(y_test), enc.inverse_transform(y_pred)))"
   ]
  },
  {
   "cell_type": "markdown",
   "metadata": {},
   "source": [
    "## Save the model for future"
   ]
  },
  {
   "cell_type": "code",
   "execution_count": 20,
   "metadata": {},
   "outputs": [],
   "source": [
    "def save_model(model, name):\n",
    "    model_json = model.to_json()\n",
    "    with open(\"%s.json\"%(name), \"w\") as json_file:\n",
    "        json_file.write(model_json)\n",
    "    model.save_weights(\"%s.hdf5\"%(name))"
   ]
  },
  {
   "cell_type": "code",
   "execution_count": 21,
   "metadata": {},
   "outputs": [],
   "source": [
    "def get_model(name):\n",
    "    json_file = open('%s.json'%(name), 'r')\n",
    "    loaded_model_json = json_file.read()\n",
    "    json_file.close()\n",
    "    loaded_model = model_from_json(loaded_model_json)\n",
    "    loaded_model.load_weights(\"%s.hdf5\"%(name))\n",
    "    model = loaded_model\n",
    "    return model"
   ]
  },
  {
   "cell_type": "code",
   "execution_count": 22,
   "metadata": {},
   "outputs": [],
   "source": [
    "save_model(model, model_save_dir + \"/\" + model_name)"
   ]
  },
  {
   "cell_type": "markdown",
   "metadata": {},
   "source": [
    "## Generate the output for leaderboard test dataset"
   ]
  },
  {
   "cell_type": "code",
   "execution_count": 23,
   "metadata": {},
   "outputs": [
    {
     "name": "stdout",
     "output_type": "stream",
     "text": [
      "['Data/TestData\\\\subject_009_01__x.csv', 'Data/TestData\\\\subject_010_01__x.csv', 'Data/TestData\\\\subject_011_01__x.csv', 'Data/TestData\\\\subject_012_01__x.csv'] ['Data/TestData\\\\subject_009_01__y_time.csv', 'Data/TestData\\\\subject_010_01__y_time.csv', 'Data/TestData\\\\subject_011_01__y_time.csv', 'Data/TestData\\\\subject_012_01__y_time.csv']\n"
     ]
    }
   ],
   "source": [
    "files=sorted(glob.glob('Data/TestData/subject_???_??__x.csv'))\n",
    "files\n",
    "\n",
    "y_files=sorted(glob.glob('Data/TestData/subject_???_??__y_time.csv'))\n",
    "print(files,y_files)\n"
   ]
  },
  {
   "cell_type": "code",
   "execution_count": 24,
   "metadata": {},
   "outputs": [],
   "source": [
    "def majority_vote(y):\n",
    "    y_out = []\n",
    "    for i in range(0, y.shape[0], 4):\n",
    "        a = list(y[i:i+4])\n",
    "        y_out.append(max(a, key=a.count))\n",
    "    return np.array(y_out)"
   ]
  },
  {
   "cell_type": "code",
   "execution_count": 25,
   "metadata": {},
   "outputs": [],
   "source": [
    "predictions_dir = \"./\"\n",
    "TEST_TIME_STEPS = TIME_STEPS\n",
    "TEST_STEP = 1"
   ]
  },
  {
   "cell_type": "code",
   "execution_count": 29,
   "metadata": {},
   "outputs": [
    {
     "name": "stdout",
     "output_type": "stream",
     "text": [
      "(9498, 1)\n",
      "1188/1188 [==============================] - 51s 43ms/step\n",
      "9498\n",
      "(12270, 1)\n",
      "1534/1534 [==============================] - 67s 44ms/step\n",
      "12270\n",
      "(12940, 1)\n",
      "1618/1618 [==============================] - 77s 48ms/step\n",
      "12940\n",
      "(11330, 1)\n",
      "1417/1417 [==============================] - 45s 32ms/step\n",
      "11330\n"
     ]
    }
   ],
   "source": [
    "to_save_filenames = [\"subject_009_01__y_prediction.csv\", \"subject_010_01__y_prediction.csv\", \"subject_011_01__y_prediction.csv\", \"subject_012_01__y_prediction.csv\"]\n",
    "\n",
    "for i in range(len(files)):\n",
    "    # read x values\n",
    "    df = pd.read_csv(files[i],header=None)\n",
    "    # scale x values\n",
    "    df = scale_data(df, list(df.columns.values))\n",
    "    # read y values\n",
    "    y_df = pd.read_csv(y_files[i],header=None)\n",
    "    print(y_df.shape)\n",
    "    \n",
    "    # pad x values according to the expected y values\n",
    "    to_add = y_df.shape[0] * 4 - df.shape[0] + TIME_STEPS\n",
    "    to_add_df = pd.DataFrame(df.iloc[-to_add:])\n",
    "    df = pd.concat([df,to_add_df], axis= 0)\n",
    "    \n",
    "    # create windowed dataset\n",
    "    X_test, y_test = create_dataset(df, 0, TEST_TIME_STEPS, TEST_STEP)\n",
    "    \n",
    "    # run model\n",
    "    y_test = model.predict(X_test)\n",
    "    \n",
    "    # convert one-hot to integer class labels\n",
    "    y_test_int = np.argmax(y_test, axis=1)\n",
    "    \n",
    "    # reduce the class size by a factor of 4 by taking majority vote\n",
    "    # from a window of 4 elements\n",
    "    y_actual = majority_vote(y_test_int)\n",
    "    \n",
    "    print(y_actual.size)\n",
    "    \n",
    "    # convert into series to export to csv\n",
    "    y_series = pd.Series(y_actual)\n",
    "    y_series.to_csv(predictions_dir + \"/\" + to_save_filenames[i])"
   ]
  }
 ],
 "metadata": {
  "environment": {
   "name": "tf2-gpu.2-1.m58",
   "type": "gcloud",
   "uri": "gcr.io/deeplearning-platform-release/tf2-gpu.2-1:m58"
  },
  "kernelspec": {
   "display_name": "base",
   "language": "python",
   "name": "python3"
  },
  "language_info": {
   "codemirror_mode": {
    "name": "ipython",
    "version": 3
   },
   "file_extension": ".py",
   "mimetype": "text/x-python",
   "name": "python",
   "nbconvert_exporter": "python",
   "pygments_lexer": "ipython3",
   "version": "3.9.12"
  },
  "vscode": {
   "interpreter": {
    "hash": "bc82a76b3c96522903f226fe9c57afbadab04c61bb80a2fbc4df8ebc2c4f604f"
   }
  }
 },
 "nbformat": 4,
 "nbformat_minor": 4
}
